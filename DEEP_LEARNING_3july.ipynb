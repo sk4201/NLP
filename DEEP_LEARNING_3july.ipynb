{
  "nbformat": 4,
  "nbformat_minor": 0,
  "metadata": {
    "colab": {
      "name": "DEEP LEARNING-3july",
      "version": "0.3.2",
      "provenance": [],
      "collapsed_sections": [],
      "include_colab_link": true
    },
    "kernelspec": {
      "name": "python3",
      "display_name": "Python 3"
    }
  },
  "cells": [
    {
      "cell_type": "markdown",
      "metadata": {
        "id": "view-in-github",
        "colab_type": "text"
      },
      "source": [
        "<a href=\"https://colab.research.google.com/github/sk4201/NLP/blob/master/DEEP_LEARNING_3july.ipynb\" target=\"_parent\"><img src=\"https://colab.research.google.com/assets/colab-badge.svg\" alt=\"Open In Colab\"/></a>"
      ]
    },
    {
      "cell_type": "markdown",
      "metadata": {
        "id": "E0nAlrYf3mdw",
        "colab_type": "text"
      },
      "source": [
        " \n",
        "\n",
        "### Deep learning \n",
        "y= mx+c\n",
        " \n",
        " types of deep learning\n",
        " \n",
        " A-NLP(natural language processing)-1-lexicon 2-semantic\n",
        " B-NN(neural networl)-1-ANN 2-CNN 3-RNN\n",
        " \n",
        " NLP Library-1-NLTK 2-Text blob 3-spacy\n",
        " \n",
        " Standford university- text processing\n",
        "                                      text summersise\n",
        "                                      opnion mining \n",
        "                                      Reviews\n",
        "                                      Recomendations\n",
        "                                     \n",
        " \n",
        " \n",
        " \n",
        " "
      ]
    }
  ]
}