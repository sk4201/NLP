{
  "nbformat": 4,
  "nbformat_minor": 0,
  "metadata": {
    "colab": {
      "name": "sentiment_analyzer-4-july.ipynb",
      "version": "0.3.2",
      "provenance": [],
      "collapsed_sections": [],
      "include_colab_link": true
    },
    "kernelspec": {
      "name": "python3",
      "display_name": "Python 3"
    }
  },
  "cells": [
    {
      "cell_type": "markdown",
      "metadata": {
        "id": "view-in-github",
        "colab_type": "text"
      },
      "source": [
        "<a href=\"https://colab.research.google.com/github/sk4201/NLP/blob/master/sentiment_analyzer_4_july.ipynb\" target=\"_parent\"><img src=\"https://colab.research.google.com/assets/colab-badge.svg\" alt=\"Open In Colab\"/></a>"
      ]
    },
    {
      "cell_type": "markdown",
      "metadata": {
        "id": "euBXe_D8modN",
        "colab_type": "text"
      },
      "source": [
        "\n",
        "for making sentiment analyzer                                                          ------------------\n",
        "                                                                                                                                    |\n",
        "                                                                                                                                    |\n",
        "                                                                                                                                    |\n",
        "data-------->token-------->stopword------------->lemma------------>polarity                 | Textblob\n",
        "                                                                                                                                    |\n",
        "                                                                                                                                    |\n",
        "< -1----------------0------------------1>                                                                                 |\n",
        "    -ve                netural         +ve                                                       ----------------------"
      ]
    },
    {
      "cell_type": "code",
      "metadata": {
        "id": "_6pkywu2n8aO",
        "colab_type": "code",
        "colab": {}
      },
      "source": [
        ""
      ],
      "execution_count": 0,
      "outputs": []
    }
  ]
}