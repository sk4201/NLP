{
  "nbformat": 4,
  "nbformat_minor": 0,
  "metadata": {
    "colab": {
      "name": "nlp_examples_def-4-july.ipynb",
      "version": "0.3.2",
      "provenance": [],
      "include_colab_link": true
    },
    "kernelspec": {
      "name": "python3",
      "display_name": "Python 3"
    }
  },
  "cells": [
    {
      "cell_type": "markdown",
      "metadata": {
        "id": "view-in-github",
        "colab_type": "text"
      },
      "source": [
        "<a href=\"https://colab.research.google.com/github/sk4201/NLP/blob/master/nlp_examples_def_4_july.ipynb\" target=\"_parent\"><img src=\"https://colab.research.google.com/assets/colab-badge.svg\" alt=\"Open In Colab\"/></a>"
      ]
    },
    {
      "cell_type": "markdown",
      "metadata": {
        "id": "AIi2MHCYhQPj",
        "colab_type": "text"
      },
      "source": [
        "### nlp examples and Defination\n",
        "\n",
        "\n",
        "### chat Bot:----------\n",
        "Dailogflow\n",
        "Rasa\n",
        "watson\n",
        "microBot"
      ]
    },
    {
      "cell_type": "code",
      "metadata": {
        "id": "nB6UKD5lhGEH",
        "colab_type": "code",
        "colab": {
          "base_uri": "https://localhost:8080/",
          "height": 68
        },
        "outputId": "f03451a2-1de0-4fb5-cc55-4e33cbec45fa"
      },
      "source": [
        "from nltk.corpus import wordnet\n",
        "import nltk\n",
        "import time\n",
        "nltk.download('wordnet')"
      ],
      "execution_count": 13,
      "outputs": [
        {
          "output_type": "stream",
          "text": [
            "[nltk_data] Downloading package wordnet to /root/nltk_data...\n",
            "[nltk_data]   Package wordnet is already up-to-date!\n"
          ],
          "name": "stdout"
        },
        {
          "output_type": "execute_result",
          "data": {
            "text/plain": [
              "True"
            ]
          },
          "metadata": {
            "tags": []
          },
          "execution_count": 13
        }
      ]
    },
    {
      "cell_type": "code",
      "metadata": {
        "id": "nP60Z9Z3hduO",
        "colab_type": "code",
        "colab": {}
      },
      "source": [
        "ws=wordnet.synsets('work') # lemma word pass"
      ],
      "execution_count": 0,
      "outputs": []
    },
    {
      "cell_type": "code",
      "metadata": {
        "id": "mr_gGvT-hoxo",
        "colab_type": "code",
        "colab": {
          "base_uri": "https://localhost:8080/",
          "height": 34
        },
        "outputId": "145835f8-0cc7-4a1f-8570-9df8d0e105e9"
      },
      "source": [
        "len(ws)"
      ],
      "execution_count": 15,
      "outputs": [
        {
          "output_type": "execute_result",
          "data": {
            "text/plain": [
              "34"
            ]
          },
          "metadata": {
            "tags": []
          },
          "execution_count": 15
        }
      ]
    },
    {
      "cell_type": "code",
      "metadata": {
        "id": "JhsmJHKXh2G1",
        "colab_type": "code",
        "colab": {
          "base_uri": "https://localhost:8080/",
          "height": 34
        },
        "outputId": "84776eda-1656-435f-a4ef-8518b83ad101"
      },
      "source": [
        "ws[0].definition()"
      ],
      "execution_count": 16,
      "outputs": [
        {
          "output_type": "execute_result",
          "data": {
            "text/plain": [
              "'activity directed toward making or doing something'"
            ]
          },
          "metadata": {
            "tags": []
          },
          "execution_count": 16
        }
      ]
    },
    {
      "cell_type": "code",
      "metadata": {
        "id": "xC_EgcVoh9wZ",
        "colab_type": "code",
        "colab": {
          "base_uri": "https://localhost:8080/",
          "height": 34
        },
        "outputId": "94b49542-8142-4ecc-d306-ed379a0c8afb"
      },
      "source": [
        "ws[1].definition()"
      ],
      "execution_count": 17,
      "outputs": [
        {
          "output_type": "execute_result",
          "data": {
            "text/plain": [
              "'a product produced or accomplished through the effort or activity or agency of a person or thing'"
            ]
          },
          "metadata": {
            "tags": []
          },
          "execution_count": 17
        }
      ]
    },
    {
      "cell_type": "code",
      "metadata": {
        "id": "NO0ir12niLGL",
        "colab_type": "code",
        "colab": {
          "base_uri": "https://localhost:8080/",
          "height": 34
        },
        "outputId": "1b434d04-a75e-4735-e5b1-0e1bea221456"
      },
      "source": [
        "ws[0].examples()"
      ],
      "execution_count": 18,
      "outputs": [
        {
          "output_type": "execute_result",
          "data": {
            "text/plain": [
              "['she checked several points needing further work']"
            ]
          },
          "metadata": {
            "tags": []
          },
          "execution_count": 18
        }
      ]
    },
    {
      "cell_type": "code",
      "metadata": {
        "id": "my9nJrzdiWRA",
        "colab_type": "code",
        "colab": {
          "base_uri": "https://localhost:8080/",
          "height": 102
        },
        "outputId": "539e7edd-1ad0-478b-fe5d-56a05cf73749"
      },
      "source": [
        "ws[1].examples()"
      ],
      "execution_count": 19,
      "outputs": [
        {
          "output_type": "execute_result",
          "data": {
            "text/plain": [
              "['it is not regarded as one of his more memorable works',\n",
              " 'the symphony was hailed as an ingenious work',\n",
              " 'he was indebted to the pioneering work of John Dewey',\n",
              " 'the work of an active imagination',\n",
              " 'erosion is the work of wind or water over time']"
            ]
          },
          "metadata": {
            "tags": []
          },
          "execution_count": 19
        }
      ]
    },
    {
      "cell_type": "code",
      "metadata": {
        "id": "HBoRWfB-iaao",
        "colab_type": "code",
        "colab": {
          "base_uri": "https://localhost:8080/",
          "height": 714
        },
        "outputId": "43299818-a3a1-4538-c6ef-a56a89bd94b5"
      },
      "source": [
        "# exploring all the book\n",
        "msg =input(\"enter your keyword you want to know about :--\")\n",
        "wordnet.synsets('msg')\n",
        "for i in wordnet.synsets(msg): # this will explore all the books according to standarford university\n",
        "  print(\"##############\")\n",
        "  print(i.definition())\n",
        "  print(\"#############\")\n",
        "  print(i.examples())\n",
        "  time.sleep(10)"
      ],
      "execution_count": 25,
      "outputs": [
        {
          "output_type": "stream",
          "text": [
            "enter your keyword you want to know about :--love\n",
            "##############\n",
            "a strong positive emotion of regard and affection\n",
            "#############\n",
            "['his love for his work', 'children need a lot of love']\n",
            "##############\n",
            "any object of warm affection or devotion; \n",
            "#############\n",
            "['the theater was her first love', 'he has a passion for cock fighting']\n",
            "##############\n",
            "a beloved person; used as terms of endearment\n",
            "#############\n",
            "[]\n",
            "##############\n",
            "a deep feeling of sexual desire and attraction\n",
            "#############\n",
            "['their love left them indifferent to their surroundings', 'she was his first love']\n",
            "##############\n",
            "a score of zero in tennis or squash\n",
            "#############\n",
            "['it was 40 love']\n",
            "##############\n",
            "sexual activities (often including sexual intercourse) between two people\n",
            "#############\n",
            "['his lovemaking disgusted her', \"he hadn't had any love in months\", 'he has a very complicated love life']\n",
            "##############\n",
            "have a great affection or liking for\n",
            "#############\n",
            "['I love French food', 'She loves her boss and works hard for him']\n",
            "##############\n",
            "get pleasure from\n",
            "#############\n",
            "['I love cooking']\n",
            "##############\n",
            "be enamored or in love with\n",
            "#############\n",
            "['She loves her husband deeply']\n",
            "##############\n",
            "have sexual intercourse with\n",
            "#############\n",
            "['This student sleeps with everyone in her dorm', 'Adam knew Eve', 'Were you ever intimate with this man?']\n"
          ],
          "name": "stdout"
        }
      ]
    },
    {
      "cell_type": "code",
      "metadata": {
        "id": "pK3WoehEj07h",
        "colab_type": "code",
        "colab": {}
      },
      "source": [
        ""
      ],
      "execution_count": 0,
      "outputs": []
    }
  ]
}