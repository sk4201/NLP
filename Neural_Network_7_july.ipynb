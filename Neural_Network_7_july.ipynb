{
  "nbformat": 4,
  "nbformat_minor": 0,
  "metadata": {
    "colab": {
      "name": "Neural-Network-7-july.ipynb",
      "version": "0.3.2",
      "provenance": [],
      "collapsed_sections": [],
      "include_colab_link": true
    },
    "kernelspec": {
      "name": "python3",
      "display_name": "Python 3"
    }
  },
  "cells": [
    {
      "cell_type": "markdown",
      "metadata": {
        "id": "view-in-github",
        "colab_type": "text"
      },
      "source": [
        "<a href=\"https://colab.research.google.com/github/sk4201/NLP/blob/master/Neural_Network_7_july.ipynb\" target=\"_parent\"><img src=\"https://colab.research.google.com/assets/colab-badge.svg\" alt=\"Open In Colab\"/></a>"
      ]
    },
    {
      "cell_type": "code",
      "metadata": {
        "id": "MulodNwz6Z65",
        "colab_type": "code",
        "colab": {}
      },
      "source": [
        "#loading data via pandas\n",
        "import pandas as pd\n",
        "import numpy as np\n",
        "import matplotlib.pyplot as plt\n",
        "import seaborn as sb"
      ],
      "execution_count": 0,
      "outputs": []
    },
    {
      "cell_type": "code",
      "metadata": {
        "id": "SZbwsq8Q6fd7",
        "colab_type": "code",
        "colab": {}
      },
      "source": [
        "#loading data from url\n",
        "df=pd.read_csv('http://13.234.66.67/summer19/datasets/bank.csv')"
      ],
      "execution_count": 0,
      "outputs": []
    },
    {
      "cell_type": "code",
      "metadata": {
        "id": "JaUqgDTG6jrx",
        "colab_type": "code",
        "outputId": "fa035811-0360-4db4-b00f-c4fb6e6b6d75",
        "colab": {
          "base_uri": "https://localhost:8080/",
          "height": 340
        }
      },
      "source": [
        "#schema\n",
        "df.info()"
      ],
      "execution_count": 252,
      "outputs": [
        {
          "output_type": "stream",
          "text": [
            "<class 'pandas.core.frame.DataFrame'>\n",
            "RangeIndex: 10000 entries, 0 to 9999\n",
            "Data columns (total 14 columns):\n",
            "RowNumber          10000 non-null int64\n",
            "CustomerId         10000 non-null int64\n",
            "Surname            10000 non-null object\n",
            "CreditScore        10000 non-null int64\n",
            "Geography          10000 non-null object\n",
            "Gender             10000 non-null object\n",
            "Age                10000 non-null int64\n",
            "Tenure             10000 non-null int64\n",
            "Balance            10000 non-null float64\n",
            "NumOfProducts      10000 non-null int64\n",
            "HasCrCard          10000 non-null int64\n",
            "IsActiveMember     10000 non-null int64\n",
            "EstimatedSalary    10000 non-null float64\n",
            "Exited             10000 non-null int64\n",
            "dtypes: float64(2), int64(9), object(3)\n",
            "memory usage: 1.1+ MB\n"
          ],
          "name": "stdout"
        }
      ]
    },
    {
      "cell_type": "code",
      "metadata": {
        "id": "TuI8Rqnv6mqR",
        "colab_type": "code",
        "outputId": "5c52f480-5d16-48ac-8b39-7ff48071e050",
        "colab": {
          "base_uri": "https://localhost:8080/",
          "height": 224
        }
      },
      "source": [
        "#top 5 rows\n",
        "df.head()"
      ],
      "execution_count": 253,
      "outputs": [
        {
          "output_type": "execute_result",
          "data": {
            "text/html": [
              "<div>\n",
              "<style scoped>\n",
              "    .dataframe tbody tr th:only-of-type {\n",
              "        vertical-align: middle;\n",
              "    }\n",
              "\n",
              "    .dataframe tbody tr th {\n",
              "        vertical-align: top;\n",
              "    }\n",
              "\n",
              "    .dataframe thead th {\n",
              "        text-align: right;\n",
              "    }\n",
              "</style>\n",
              "<table border=\"1\" class=\"dataframe\">\n",
              "  <thead>\n",
              "    <tr style=\"text-align: right;\">\n",
              "      <th></th>\n",
              "      <th>RowNumber</th>\n",
              "      <th>CustomerId</th>\n",
              "      <th>Surname</th>\n",
              "      <th>CreditScore</th>\n",
              "      <th>Geography</th>\n",
              "      <th>Gender</th>\n",
              "      <th>Age</th>\n",
              "      <th>Tenure</th>\n",
              "      <th>Balance</th>\n",
              "      <th>NumOfProducts</th>\n",
              "      <th>HasCrCard</th>\n",
              "      <th>IsActiveMember</th>\n",
              "      <th>EstimatedSalary</th>\n",
              "      <th>Exited</th>\n",
              "    </tr>\n",
              "  </thead>\n",
              "  <tbody>\n",
              "    <tr>\n",
              "      <th>0</th>\n",
              "      <td>1</td>\n",
              "      <td>15634602</td>\n",
              "      <td>Hargrave</td>\n",
              "      <td>619</td>\n",
              "      <td>France</td>\n",
              "      <td>Female</td>\n",
              "      <td>42</td>\n",
              "      <td>2</td>\n",
              "      <td>0.00</td>\n",
              "      <td>1</td>\n",
              "      <td>1</td>\n",
              "      <td>1</td>\n",
              "      <td>101348.88</td>\n",
              "      <td>1</td>\n",
              "    </tr>\n",
              "    <tr>\n",
              "      <th>1</th>\n",
              "      <td>2</td>\n",
              "      <td>15647311</td>\n",
              "      <td>Hill</td>\n",
              "      <td>608</td>\n",
              "      <td>Spain</td>\n",
              "      <td>Female</td>\n",
              "      <td>41</td>\n",
              "      <td>1</td>\n",
              "      <td>83807.86</td>\n",
              "      <td>1</td>\n",
              "      <td>0</td>\n",
              "      <td>1</td>\n",
              "      <td>112542.58</td>\n",
              "      <td>0</td>\n",
              "    </tr>\n",
              "    <tr>\n",
              "      <th>2</th>\n",
              "      <td>3</td>\n",
              "      <td>15619304</td>\n",
              "      <td>Onio</td>\n",
              "      <td>502</td>\n",
              "      <td>France</td>\n",
              "      <td>Female</td>\n",
              "      <td>42</td>\n",
              "      <td>8</td>\n",
              "      <td>159660.80</td>\n",
              "      <td>3</td>\n",
              "      <td>1</td>\n",
              "      <td>0</td>\n",
              "      <td>113931.57</td>\n",
              "      <td>1</td>\n",
              "    </tr>\n",
              "    <tr>\n",
              "      <th>3</th>\n",
              "      <td>4</td>\n",
              "      <td>15701354</td>\n",
              "      <td>Boni</td>\n",
              "      <td>699</td>\n",
              "      <td>France</td>\n",
              "      <td>Female</td>\n",
              "      <td>39</td>\n",
              "      <td>1</td>\n",
              "      <td>0.00</td>\n",
              "      <td>2</td>\n",
              "      <td>0</td>\n",
              "      <td>0</td>\n",
              "      <td>93826.63</td>\n",
              "      <td>0</td>\n",
              "    </tr>\n",
              "    <tr>\n",
              "      <th>4</th>\n",
              "      <td>5</td>\n",
              "      <td>15737888</td>\n",
              "      <td>Mitchell</td>\n",
              "      <td>850</td>\n",
              "      <td>Spain</td>\n",
              "      <td>Female</td>\n",
              "      <td>43</td>\n",
              "      <td>2</td>\n",
              "      <td>125510.82</td>\n",
              "      <td>1</td>\n",
              "      <td>1</td>\n",
              "      <td>1</td>\n",
              "      <td>79084.10</td>\n",
              "      <td>0</td>\n",
              "    </tr>\n",
              "  </tbody>\n",
              "</table>\n",
              "</div>"
            ],
            "text/plain": [
              "   RowNumber  CustomerId   Surname  ...  IsActiveMember EstimatedSalary Exited\n",
              "0          1    15634602  Hargrave  ...               1       101348.88      1\n",
              "1          2    15647311      Hill  ...               1       112542.58      0\n",
              "2          3    15619304      Onio  ...               0       113931.57      1\n",
              "3          4    15701354      Boni  ...               0        93826.63      0\n",
              "4          5    15737888  Mitchell  ...               1        79084.10      0\n",
              "\n",
              "[5 rows x 14 columns]"
            ]
          },
          "metadata": {
            "tags": []
          },
          "execution_count": 253
        }
      ]
    },
    {
      "cell_type": "code",
      "metadata": {
        "id": "p9IiiS7G6ot7",
        "colab_type": "code",
        "outputId": "cfaa41bd-cb15-4608-e861-e05a12d85a21",
        "colab": {
          "base_uri": "https://localhost:8080/",
          "height": 300
        }
      },
      "source": [
        "#count plot by seaborn\n",
        "sb.countplot(df['Gender'])"
      ],
      "execution_count": 254,
      "outputs": [
        {
          "output_type": "execute_result",
          "data": {
            "text/plain": [
              "<matplotlib.axes._subplots.AxesSubplot at 0x7f8794a4dd68>"
            ]
          },
          "metadata": {
            "tags": []
          },
          "execution_count": 254
        },
        {
          "output_type": "display_data",
          "data": {
            "image/png": "[encoded data removed]",
            "text/plain": [
              "<Figure size 432x288 with 1 Axes>"
            ]
          },
          "metadata": {
            "tags": []
          }
        }
      ]
    },
    {
      "cell_type": "code",
      "metadata": {
        "id": "PaLCHrzE6rL7",
        "colab_type": "code",
        "outputId": "3e30d442-32fd-4741-8774-62c83c32f5fa",
        "colab": {
          "base_uri": "https://localhost:8080/",
          "height": 300
        }
      },
      "source": [
        "\n",
        "sb.countplot(df['Geography'])"
      ],
      "execution_count": 255,
      "outputs": [
        {
          "output_type": "execute_result",
          "data": {
            "text/plain": [
              "<matplotlib.axes._subplots.AxesSubplot at 0x7f8794a4b710>"
            ]
          },
          "metadata": {
            "tags": []
          },
          "execution_count": 255
        },
        {
          "output_type": "display_data",
          "data": {
            "image/png": "[encoded data removed]",
            "text/plain": [
              "<Figure size 432x288 with 1 Axes>"
            ]
          },
          "metadata": {
            "tags": []
          }
        }
      ]
    },
    {
      "cell_type": "code",
      "metadata": {
        "id": "vVN7N4-x6uci",
        "colab_type": "code",
        "outputId": "b17d26e2-2052-40e6-e837-29b714fb3001",
        "colab": {
          "base_uri": "https://localhost:8080/",
          "height": 1000
        }
      },
      "source": [
        "\n",
        "#histogram\n",
        "df.hist(figsize=(20,15))"
      ],
      "execution_count": 256,
      "outputs": [
        {
          "output_type": "execute_result",
          "data": {
            "text/plain": [
              "array([[<matplotlib.axes._subplots.AxesSubplot object at 0x7f87949a8710>,\n",
              "        <matplotlib.axes._subplots.AxesSubplot object at 0x7f87949552b0>,\n",
              "        <matplotlib.axes._subplots.AxesSubplot object at 0x7f879497c828>],\n",
              "       [<matplotlib.axes._subplots.AxesSubplot object at 0x7f8794926da0>,\n",
              "        <matplotlib.axes._subplots.AxesSubplot object at 0x7f87948d6358>,\n",
              "        <matplotlib.axes._subplots.AxesSubplot object at 0x7f87948fc8d0>],\n",
              "       [<matplotlib.axes._subplots.AxesSubplot object at 0x7f87948a5e48>,\n",
              "        <matplotlib.axes._subplots.AxesSubplot object at 0x7f8794855438>,\n",
              "        <matplotlib.axes._subplots.AxesSubplot object at 0x7f8794855470>],\n",
              "       [<matplotlib.axes._subplots.AxesSubplot object at 0x7f8794825ef0>,\n",
              "        <matplotlib.axes._subplots.AxesSubplot object at 0x7f87947d54a8>,\n",
              "        <matplotlib.axes._subplots.AxesSubplot object at 0x7f87947fca20>]],\n",
              "      dtype=object)"
            ]
          },
          "metadata": {
            "tags": []
          },
          "execution_count": 256
        },
        {
          "output_type": "display_data",
          "data": {
            "image/png": "[encoded data removed]",
            "text/plain": [
              "<Figure size 1440x1080 with 12 Axes>"
            ]
          },
          "metadata": {
            "tags": []
          }
        }
      ]
    },
    {
      "cell_type": "code",
      "metadata": {
        "id": "DvsjMfXb6xOg",
        "colab_type": "code",
        "colab": {}
      },
      "source": [
        "#features and lable\n",
        "features=df.iloc[0:,3:13].values\n"
      ],
      "execution_count": 0,
      "outputs": []
    },
    {
      "cell_type": "code",
      "metadata": {
        "id": "w6t6pufd6lFN",
        "colab_type": "code",
        "colab": {
          "base_uri": "https://localhost:8080/",
          "height": 136
        },
        "outputId": "508be893-9610-4a42-d6c2-aac8ed991412"
      },
      "source": [
        "features"
      ],
      "execution_count": 258,
      "outputs": [
        {
          "output_type": "execute_result",
          "data": {
            "text/plain": [
              "array([[619, 'France', 'Female', ..., 1, 1, 101348.88],\n",
              "       [608, 'Spain', 'Female', ..., 0, 1, 112542.58],\n",
              "       [502, 'France', 'Female', ..., 1, 0, 113931.57],\n",
              "       ...,\n",
              "       [709, 'France', 'Female', ..., 0, 1, 42085.58],\n",
              "       [772, 'Germany', 'Male', ..., 1, 0, 92888.52],\n",
              "       [792, 'France', 'Female', ..., 1, 0, 38190.78]], dtype=object)"
            ]
          },
          "metadata": {
            "tags": []
          },
          "execution_count": 258
        }
      ]
    },
    {
      "cell_type": "code",
      "metadata": {
        "id": "SlXLyboj61AE",
        "colab_type": "code",
        "outputId": "0d1df165-eb6c-4982-f3e2-c8257accd5c1",
        "colab": {
          "base_uri": "https://localhost:8080/",
          "height": 34
        }
      },
      "source": [
        "features.shape"
      ],
      "execution_count": 259,
      "outputs": [
        {
          "output_type": "execute_result",
          "data": {
            "text/plain": [
              "(10000, 10)"
            ]
          },
          "metadata": {
            "tags": []
          },
          "execution_count": 259
        }
      ]
    },
    {
      "cell_type": "code",
      "metadata": {
        "id": "pfsogzge7m6G",
        "colab_type": "code",
        "colab": {}
      },
      "source": [
        "label=df.iloc[0:,13].values"
      ],
      "execution_count": 0,
      "outputs": []
    },
    {
      "cell_type": "code",
      "metadata": {
        "id": "KqiGnyG27onf",
        "colab_type": "code",
        "outputId": "521fc4e6-0d60-4c11-d93f-ab7a43db40f6",
        "colab": {
          "base_uri": "https://localhost:8080/",
          "height": 34
        }
      },
      "source": [
        "label"
      ],
      "execution_count": 261,
      "outputs": [
        {
          "output_type": "execute_result",
          "data": {
            "text/plain": [
              "array([1, 0, 1, ..., 1, 1, 0])"
            ]
          },
          "metadata": {
            "tags": []
          },
          "execution_count": 261
        }
      ]
    },
    {
      "cell_type": "code",
      "metadata": {
        "id": "eWWPXlPA63oy",
        "colab_type": "code",
        "colab": {}
      },
      "source": [
        "#convert string data into numeric we can apply label encoding\n",
        "from sklearn.preprocessing import LabelEncoder"
      ],
      "execution_count": 0,
      "outputs": []
    },
    {
      "cell_type": "code",
      "metadata": {
        "id": "oziubaBG67nL",
        "colab_type": "code",
        "colab": {}
      },
      "source": [
        "countryenc=LabelEncoder()"
      ],
      "execution_count": 0,
      "outputs": []
    },
    {
      "cell_type": "code",
      "metadata": {
        "id": "NUtgMwbx6-BX",
        "colab_type": "code",
        "outputId": "9ad8f50a-78c4-41e8-923c-16bbf73a73af",
        "colab": {
          "base_uri": "https://localhost:8080/",
          "height": 136
        }
      },
      "source": [
        "\n",
        "#fit country and transformed into a number\n",
        "features[0:,1]=countryenc.fit_transform(features[0:,1])\n",
        "features\n"
      ],
      "execution_count": 264,
      "outputs": [
        {
          "output_type": "execute_result",
          "data": {
            "text/plain": [
              "array([[619, 0, 'Female', ..., 1, 1, 101348.88],\n",
              "       [608, 2, 'Female', ..., 0, 1, 112542.58],\n",
              "       [502, 0, 'Female', ..., 1, 0, 113931.57],\n",
              "       ...,\n",
              "       [709, 0, 'Female', ..., 0, 1, 42085.58],\n",
              "       [772, 1, 'Male', ..., 1, 0, 92888.52],\n",
              "       [792, 0, 'Female', ..., 1, 0, 38190.78]], dtype=object)"
            ]
          },
          "metadata": {
            "tags": []
          },
          "execution_count": 264
        }
      ]
    },
    {
      "cell_type": "code",
      "metadata": {
        "id": "Kffrfl107XEu",
        "colab_type": "code",
        "outputId": "0a64ce1a-35c3-4bfe-c4d7-24aa4d4fa31e",
        "colab": {
          "base_uri": "https://localhost:8080/",
          "height": 136
        }
      },
      "source": [
        "#same for gender\n",
        "features[0:,2]=countryenc.fit_transform(features[0:,2])\n",
        "features"
      ],
      "execution_count": 265,
      "outputs": [
        {
          "output_type": "execute_result",
          "data": {
            "text/plain": [
              "array([[619, 0, 0, ..., 1, 1, 101348.88],\n",
              "       [608, 2, 0, ..., 0, 1, 112542.58],\n",
              "       [502, 0, 0, ..., 1, 0, 113931.57],\n",
              "       ...,\n",
              "       [709, 0, 0, ..., 0, 1, 42085.58],\n",
              "       [772, 1, 1, ..., 1, 0, 92888.52],\n",
              "       [792, 0, 0, ..., 1, 0, 38190.78]], dtype=object)"
            ]
          },
          "metadata": {
            "tags": []
          },
          "execution_count": 265
        }
      ]
    },
    {
      "cell_type": "code",
      "metadata": {
        "id": "-ZOrlbyP7AvX",
        "colab_type": "code",
        "colab": {}
      },
      "source": [
        "\n",
        "#creating dummy variables using oneHotEncoder\n",
        "from sklearn.preprocessing import OneHotEncoder"
      ],
      "execution_count": 0,
      "outputs": []
    },
    {
      "cell_type": "code",
      "metadata": {
        "id": "BJQD-DPC7D9l",
        "colab_type": "code",
        "colab": {}
      },
      "source": [
        "\n",
        "#calling function\n",
        "counthot=OneHotEncoder(categorical_features=[1])"
      ],
      "execution_count": 0,
      "outputs": []
    },
    {
      "cell_type": "code",
      "metadata": {
        "id": "KFJBz2SC7JYB",
        "colab_type": "code",
        "outputId": "ab655ada-4e0b-40d7-8d62-1ba3ce7ce57e",
        "colab": {
          "base_uri": "https://localhost:8080/",
          "height": 139
        }
      },
      "source": [
        "features=counthot.fit_transform(features).toarray()\n",
        "features1=features[:,1:]\n"
      ],
      "execution_count": 268,
      "outputs": [
        {
          "output_type": "stream",
          "text": [
            "/usr/local/lib/python3.6/dist-packages/sklearn/preprocessing/_encoders.py:415: FutureWarning: The handling of integer data will change in version 0.22. Currently, the categories are determined based on the range [0, max(values)], while in the future they will be determined based on the unique values.\n",
            "If you want the future behaviour and silence this warning, you can specify \"categories='auto'\".\n",
            "In case you used a LabelEncoder before this OneHotEncoder to convert the categories to integers, then you can now use the OneHotEncoder directly.\n",
            "  warnings.warn(msg, FutureWarning)\n",
            "/usr/local/lib/python3.6/dist-packages/sklearn/preprocessing/_encoders.py:451: DeprecationWarning: The 'categorical_features' keyword is deprecated in version 0.20 and will be removed in 0.22. You can use the ColumnTransformer instead.\n",
            "  \"use the ColumnTransformer instead.\", DeprecationWarning)\n"
          ],
          "name": "stderr"
        }
      ]
    },
    {
      "cell_type": "code",
      "metadata": {
        "id": "7RuFiqjvApVi",
        "colab_type": "code",
        "colab": {
          "base_uri": "https://localhost:8080/",
          "height": 34
        },
        "outputId": "a0c45c63-d0ee-4644-f919-571548a509d9"
      },
      "source": [
        "features1.shape"
      ],
      "execution_count": 269,
      "outputs": [
        {
          "output_type": "execute_result",
          "data": {
            "text/plain": [
              "(10000, 11)"
            ]
          },
          "metadata": {
            "tags": []
          },
          "execution_count": 269
        }
      ]
    },
    {
      "cell_type": "code",
      "metadata": {
        "id": "4UMF3hmS7MCf",
        "colab_type": "code",
        "outputId": "ecb5ee92-1cb6-424a-9d90-5f8b9871cb52",
        "colab": {
          "base_uri": "https://localhost:8080/",
          "height": 238
        }
      },
      "source": [
        "features"
      ],
      "execution_count": 270,
      "outputs": [
        {
          "output_type": "execute_result",
          "data": {
            "text/plain": [
              "array([[1.0000000e+00, 0.0000000e+00, 0.0000000e+00, ..., 1.0000000e+00,\n",
              "        1.0000000e+00, 1.0134888e+05],\n",
              "       [0.0000000e+00, 0.0000000e+00, 1.0000000e+00, ..., 0.0000000e+00,\n",
              "        1.0000000e+00, 1.1254258e+05],\n",
              "       [1.0000000e+00, 0.0000000e+00, 0.0000000e+00, ..., 1.0000000e+00,\n",
              "        0.0000000e+00, 1.1393157e+05],\n",
              "       ...,\n",
              "       [1.0000000e+00, 0.0000000e+00, 0.0000000e+00, ..., 0.0000000e+00,\n",
              "        1.0000000e+00, 4.2085580e+04],\n",
              "       [0.0000000e+00, 1.0000000e+00, 0.0000000e+00, ..., 1.0000000e+00,\n",
              "        0.0000000e+00, 9.2888520e+04],\n",
              "       [1.0000000e+00, 0.0000000e+00, 0.0000000e+00, ..., 1.0000000e+00,\n",
              "        0.0000000e+00, 3.8190780e+04]])"
            ]
          },
          "metadata": {
            "tags": []
          },
          "execution_count": 270
        }
      ]
    },
    {
      "cell_type": "code",
      "metadata": {
        "id": "Sb35MmLG8wka",
        "colab_type": "code",
        "colab": {}
      },
      "source": [
        "# now time for seprating data into two category\n",
        "#1 . ---training data\n",
        "#2 . --- testing data -- Questions\n",
        "StandardScaler\n",
        "from  sklearn.model_selection import train_test_split"
      ],
      "execution_count": 0,
      "outputs": []
    },
    {
      "cell_type": "code",
      "metadata": {
        "id": "kgQo04Ja_QbR",
        "colab_type": "code",
        "colab": {}
      },
      "source": [
        "#train_data=X,test_data=x,label_train=y,label_test=y\n",
        "X,x,Y,y=train_test_split(features1,label,test_size=0.2)"
      ],
      "execution_count": 0,
      "outputs": []
    },
    {
      "cell_type": "code",
      "metadata": {
        "id": "r7DY8X-18ouu",
        "colab_type": "code",
        "colab": {}
      },
      "source": [
        "from sklearn.preprocessing import StandardScaler"
      ],
      "execution_count": 0,
      "outputs": []
    },
    {
      "cell_type": "code",
      "metadata": {
        "id": "k6ADYmKu_kbo",
        "colab_type": "code",
        "colab": {}
      },
      "source": [
        "# calling decision StandardScaler\n",
        "sc=StandardScaler()"
      ],
      "execution_count": 0,
      "outputs": []
    },
    {
      "cell_type": "code",
      "metadata": {
        "id": "u0cFypBhHTl3",
        "colab_type": "code",
        "colab": {}
      },
      "source": [
        "#now time for training StandardScaler\n",
        "X=sc.fit_transform(X)"
      ],
      "execution_count": 0,
      "outputs": []
    },
    {
      "cell_type": "code",
      "metadata": {
        "id": "mh8veCoRBdAg",
        "colab_type": "code",
        "colab": {}
      },
      "source": [
        "x=sc.fit_transform(x)"
      ],
      "execution_count": 0,
      "outputs": []
    },
    {
      "cell_type": "code",
      "metadata": {
        "id": "kq6E0TRIBkNL",
        "colab_type": "code",
        "colab": {
          "base_uri": "https://localhost:8080/",
          "height": 34
        },
        "outputId": "a2d809a3-96fd-4ce5-b465-746e7fd2918d"
      },
      "source": [
        "X.shape\n",
        "x.shape"
      ],
      "execution_count": 277,
      "outputs": [
        {
          "output_type": "execute_result",
          "data": {
            "text/plain": [
              "(2000, 11)"
            ]
          },
          "metadata": {
            "tags": []
          },
          "execution_count": 277
        }
      ]
    },
    {
      "cell_type": "markdown",
      "metadata": {
        "id": "x6ZRgtfsCWAm",
        "colab_type": "text"
      },
      "source": [
        "### Now we can create ANN Model\n"
      ]
    },
    {
      "cell_type": "code",
      "metadata": {
        "id": "WTt4pmabCiNh",
        "colab_type": "code",
        "colab": {}
      },
      "source": [
        "import keras # this is the way of uising tensflow in background "
      ],
      "execution_count": 0,
      "outputs": []
    },
    {
      "cell_type": "code",
      "metadata": {
        "id": "uC0pM_Q_Cy3v",
        "colab_type": "code",
        "colab": {}
      },
      "source": [
        "# keras ANN model library import\n",
        "from keras .models import Sequential\n",
        "# this will offer external model of ANN"
      ],
      "execution_count": 0,
      "outputs": []
    },
    {
      "cell_type": "code",
      "metadata": {
        "id": "jukN5yOfDFNd",
        "colab_type": "code",
        "colab": {}
      },
      "source": [
        "# filling data in each layer ---\n",
        "from keras.layers import Dense #  this will give the method to decide activation function and number of nodes in each layer\n",
        "# including input, hidden and output layer"
      ],
      "execution_count": 0,
      "outputs": []
    },
    {
      "cell_type": "code",
      "metadata": {
        "id": "10DQ1nmED62U",
        "colab_type": "code",
        "colab": {}
      },
      "source": [
        "# now we  can design model\n",
        "model=Sequential()"
      ],
      "execution_count": 0,
      "outputs": []
    },
    {
      "cell_type": "code",
      "metadata": {
        "id": "YQPFy5IJEF6F",
        "colab_type": "code",
        "colab": {}
      },
      "source": [
        "# now we can add input layer\n",
        "model.add(Dense(6,input_shape=(11,),activation=\"relu\"))\n",
        "\n",
        "# relu --means rectifier activation function"
      ],
      "execution_count": 0,
      "outputs": []
    },
    {
      "cell_type": "code",
      "metadata": {
        "id": "vK78HrWwGFkE",
        "colab_type": "code",
        "colab": {}
      },
      "source": [
        "# adding one more hidden layer\n",
        "model.add(Dense(6,activation=\"relu\"))\n",
        "# NOTE:--- we donot have to assign  number of inputs after  first / input layer"
      ],
      "execution_count": 0,
      "outputs": []
    },
    {
      "cell_type": "code",
      "metadata": {
        "id": "vt1I-He8HcNB",
        "colab_type": "code",
        "colab": {}
      },
      "source": [
        "# final layer adding \n",
        "model.add(Dense(1,activation='sigmoid'))"
      ],
      "execution_count": 0,
      "outputs": []
    },
    {
      "cell_type": "code",
      "metadata": {
        "id": "qOfqzpONID0J",
        "colab_type": "code",
        "colab": {}
      },
      "source": [
        "# compile \n",
        "model.compile(optimizer='adam',loss='binary_crossentropy',metrics=['accuracy'])\n",
        "# optimizer --- weight adjust method --stochitis g d(adam)"
      ],
      "execution_count": 0,
      "outputs": []
    },
    {
      "cell_type": "code",
      "metadata": {
        "id": "Q-3nxdjTJazE",
        "colab_type": "code",
        "colab": {
          "base_uri": "https://localhost:8080/",
          "height": 1000
        },
        "outputId": "bd853917-f3e6-408d-e2c0-f73545142cc4"
      },
      "source": [
        "# trainning data fit\n",
        "model.fit(X,Y,batch_size=2000,epochs=100)"
      ],
      "execution_count": 286,
      "outputs": [
        {
          "output_type": "stream",
          "text": [
            "Epoch 1/100\n",
            "8000/8000 [==============================] - 0s 54us/step - loss: 0.9328 - acc: 0.2645\n",
            "Epoch 2/100\n",
            "8000/8000 [==============================] - 0s 2us/step - loss: 0.9121 - acc: 0.2770\n",
            "Epoch 3/100\n",
            "8000/8000 [==============================] - 0s 2us/step - loss: 0.8909 - acc: 0.2931\n",
            "Epoch 4/100\n",
            "8000/8000 [==============================] - 0s 2us/step - loss: 0.8701 - acc: 0.3089\n",
            "Epoch 5/100\n",
            "8000/8000 [==============================] - 0s 2us/step - loss: 0.8502 - acc: 0.3235\n",
            "Epoch 6/100\n",
            "8000/8000 [==============================] - 0s 2us/step - loss: 0.8310 - acc: 0.3455\n",
            "Epoch 7/100\n",
            "8000/8000 [==============================] - 0s 2us/step - loss: 0.8127 - acc: 0.3695\n",
            "Epoch 8/100\n",
            "8000/8000 [==============================] - 0s 2us/step - loss: 0.7953 - acc: 0.3914\n",
            "Epoch 9/100\n",
            "8000/8000 [==============================] - 0s 2us/step - loss: 0.7787 - acc: 0.4147\n",
            "Epoch 10/100\n",
            "8000/8000 [==============================] - 0s 2us/step - loss: 0.7630 - acc: 0.4382\n",
            "Epoch 11/100\n",
            "8000/8000 [==============================] - 0s 2us/step - loss: 0.7481 - acc: 0.4607\n",
            "Epoch 12/100\n",
            "8000/8000 [==============================] - 0s 2us/step - loss: 0.7340 - acc: 0.4811\n",
            "Epoch 13/100\n",
            "8000/8000 [==============================] - 0s 2us/step - loss: 0.7208 - acc: 0.5027\n",
            "Epoch 14/100\n",
            "8000/8000 [==============================] - 0s 2us/step - loss: 0.7084 - acc: 0.5264\n",
            "Epoch 15/100\n",
            "8000/8000 [==============================] - 0s 2us/step - loss: 0.6964 - acc: 0.5487\n",
            "Epoch 16/100\n",
            "8000/8000 [==============================] - 0s 2us/step - loss: 0.6853 - acc: 0.5757\n",
            "Epoch 17/100\n",
            "8000/8000 [==============================] - 0s 2us/step - loss: 0.6749 - acc: 0.5995\n",
            "Epoch 18/100\n",
            "8000/8000 [==============================] - 0s 2us/step - loss: 0.6650 - acc: 0.6219\n",
            "Epoch 19/100\n",
            "8000/8000 [==============================] - 0s 2us/step - loss: 0.6557 - acc: 0.6446\n",
            "Epoch 20/100\n",
            "8000/8000 [==============================] - 0s 2us/step - loss: 0.6470 - acc: 0.6640\n",
            "Epoch 21/100\n",
            "8000/8000 [==============================] - 0s 2us/step - loss: 0.6386 - acc: 0.6840\n",
            "Epoch 22/100\n",
            "8000/8000 [==============================] - 0s 2us/step - loss: 0.6310 - acc: 0.7004\n",
            "Epoch 23/100\n",
            "8000/8000 [==============================] - 0s 2us/step - loss: 0.6236 - acc: 0.7184\n",
            "Epoch 24/100\n",
            "8000/8000 [==============================] - 0s 2us/step - loss: 0.6166 - acc: 0.7325\n",
            "Epoch 25/100\n",
            "8000/8000 [==============================] - 0s 2us/step - loss: 0.6101 - acc: 0.7455\n",
            "Epoch 26/100\n",
            "8000/8000 [==============================] - 0s 2us/step - loss: 0.6039 - acc: 0.7537\n",
            "Epoch 27/100\n",
            "8000/8000 [==============================] - 0s 2us/step - loss: 0.5980 - acc: 0.7621\n",
            "Epoch 28/100\n",
            "8000/8000 [==============================] - 0s 2us/step - loss: 0.5925 - acc: 0.7689\n",
            "Epoch 29/100\n",
            "8000/8000 [==============================] - 0s 2us/step - loss: 0.5872 - acc: 0.7731\n",
            "Epoch 30/100\n",
            "8000/8000 [==============================] - 0s 2us/step - loss: 0.5823 - acc: 0.7767\n",
            "Epoch 31/100\n",
            "8000/8000 [==============================] - 0s 2us/step - loss: 0.5774 - acc: 0.7805\n",
            "Epoch 32/100\n",
            "8000/8000 [==============================] - 0s 2us/step - loss: 0.5731 - acc: 0.7836\n",
            "Epoch 33/100\n",
            "8000/8000 [==============================] - 0s 2us/step - loss: 0.5685 - acc: 0.7856\n",
            "Epoch 34/100\n",
            "8000/8000 [==============================] - 0s 2us/step - loss: 0.5643 - acc: 0.7861\n",
            "Epoch 35/100\n",
            "8000/8000 [==============================] - 0s 2us/step - loss: 0.5603 - acc: 0.7865\n",
            "Epoch 36/100\n",
            "8000/8000 [==============================] - 0s 2us/step - loss: 0.5564 - acc: 0.7878\n",
            "Epoch 37/100\n",
            "8000/8000 [==============================] - 0s 2us/step - loss: 0.5525 - acc: 0.7882\n",
            "Epoch 38/100\n",
            "8000/8000 [==============================] - 0s 2us/step - loss: 0.5489 - acc: 0.7897\n",
            "Epoch 39/100\n",
            "8000/8000 [==============================] - 0s 2us/step - loss: 0.5454 - acc: 0.7900\n",
            "Epoch 40/100\n",
            "8000/8000 [==============================] - 0s 3us/step - loss: 0.5419 - acc: 0.7902\n",
            "Epoch 41/100\n",
            "8000/8000 [==============================] - 0s 2us/step - loss: 0.5386 - acc: 0.7913\n",
            "Epoch 42/100\n",
            "8000/8000 [==============================] - 0s 2us/step - loss: 0.5353 - acc: 0.7914\n",
            "Epoch 43/100\n",
            "8000/8000 [==============================] - 0s 2us/step - loss: 0.5321 - acc: 0.7919\n",
            "Epoch 44/100\n",
            "8000/8000 [==============================] - 0s 2us/step - loss: 0.5291 - acc: 0.7922\n",
            "Epoch 45/100\n",
            "8000/8000 [==============================] - 0s 2us/step - loss: 0.5260 - acc: 0.7926\n",
            "Epoch 46/100\n",
            "8000/8000 [==============================] - 0s 2us/step - loss: 0.5231 - acc: 0.7934\n",
            "Epoch 47/100\n",
            "8000/8000 [==============================] - 0s 2us/step - loss: 0.5202 - acc: 0.7934\n",
            "Epoch 48/100\n",
            "8000/8000 [==============================] - 0s 2us/step - loss: 0.5175 - acc: 0.7936\n",
            "Epoch 49/100\n",
            "8000/8000 [==============================] - 0s 2us/step - loss: 0.5148 - acc: 0.7940\n",
            "Epoch 50/100\n",
            "8000/8000 [==============================] - 0s 3us/step - loss: 0.5122 - acc: 0.7948\n",
            "Epoch 51/100\n",
            "8000/8000 [==============================] - 0s 3us/step - loss: 0.5096 - acc: 0.7951\n",
            "Epoch 52/100\n",
            "8000/8000 [==============================] - 0s 3us/step - loss: 0.5071 - acc: 0.7957\n",
            "Epoch 53/100\n",
            "8000/8000 [==============================] - 0s 2us/step - loss: 0.5046 - acc: 0.7959\n",
            "Epoch 54/100\n",
            "8000/8000 [==============================] - 0s 2us/step - loss: 0.5023 - acc: 0.7962\n",
            "Epoch 55/100\n",
            "8000/8000 [==============================] - 0s 2us/step - loss: 0.5000 - acc: 0.7968\n",
            "Epoch 56/100\n",
            "8000/8000 [==============================] - 0s 2us/step - loss: 0.4976 - acc: 0.7975\n",
            "Epoch 57/100\n",
            "8000/8000 [==============================] - 0s 2us/step - loss: 0.4954 - acc: 0.7978\n",
            "Epoch 58/100\n",
            "8000/8000 [==============================] - 0s 2us/step - loss: 0.4932 - acc: 0.7979\n",
            "Epoch 59/100\n",
            "8000/8000 [==============================] - 0s 2us/step - loss: 0.4911 - acc: 0.7980\n",
            "Epoch 60/100\n",
            "8000/8000 [==============================] - 0s 2us/step - loss: 0.4890 - acc: 0.7985\n",
            "Epoch 61/100\n",
            "8000/8000 [==============================] - 0s 2us/step - loss: 0.4870 - acc: 0.7988\n",
            "Epoch 62/100\n",
            "8000/8000 [==============================] - 0s 2us/step - loss: 0.4851 - acc: 0.7987\n",
            "Epoch 63/100\n",
            "8000/8000 [==============================] - 0s 2us/step - loss: 0.4832 - acc: 0.7986\n",
            "Epoch 64/100\n",
            "8000/8000 [==============================] - 0s 2us/step - loss: 0.4813 - acc: 0.7982\n",
            "Epoch 65/100\n",
            "8000/8000 [==============================] - 0s 2us/step - loss: 0.4794 - acc: 0.7986\n",
            "Epoch 66/100\n",
            "8000/8000 [==============================] - 0s 2us/step - loss: 0.4776 - acc: 0.7989\n",
            "Epoch 67/100\n",
            "8000/8000 [==============================] - 0s 2us/step - loss: 0.4758 - acc: 0.7994\n",
            "Epoch 68/100\n",
            "8000/8000 [==============================] - 0s 2us/step - loss: 0.4741 - acc: 0.7996\n",
            "Epoch 69/100\n",
            "8000/8000 [==============================] - 0s 2us/step - loss: 0.4725 - acc: 0.8001\n",
            "Epoch 70/100\n",
            "8000/8000 [==============================] - 0s 2us/step - loss: 0.4708 - acc: 0.8006\n",
            "Epoch 71/100\n",
            "8000/8000 [==============================] - 0s 3us/step - loss: 0.4692 - acc: 0.8009\n",
            "Epoch 72/100\n",
            "8000/8000 [==============================] - 0s 2us/step - loss: 0.4675 - acc: 0.8006\n",
            "Epoch 73/100\n",
            "8000/8000 [==============================] - 0s 2us/step - loss: 0.4660 - acc: 0.8002\n",
            "Epoch 74/100\n",
            "8000/8000 [==============================] - 0s 2us/step - loss: 0.4645 - acc: 0.8008\n",
            "Epoch 75/100\n",
            "8000/8000 [==============================] - 0s 2us/step - loss: 0.4630 - acc: 0.8010\n",
            "Epoch 76/100\n",
            "8000/8000 [==============================] - 0s 2us/step - loss: 0.4615 - acc: 0.8009\n",
            "Epoch 77/100\n",
            "8000/8000 [==============================] - 0s 2us/step - loss: 0.4600 - acc: 0.8010\n",
            "Epoch 78/100\n",
            "8000/8000 [==============================] - 0s 2us/step - loss: 0.4586 - acc: 0.8010\n",
            "Epoch 79/100\n",
            "8000/8000 [==============================] - 0s 2us/step - loss: 0.4572 - acc: 0.8012\n",
            "Epoch 80/100\n",
            "8000/8000 [==============================] - 0s 2us/step - loss: 0.4559 - acc: 0.8015\n",
            "Epoch 81/100\n",
            "8000/8000 [==============================] - 0s 2us/step - loss: 0.4545 - acc: 0.8018\n",
            "Epoch 82/100\n",
            "8000/8000 [==============================] - 0s 2us/step - loss: 0.4532 - acc: 0.8020\n",
            "Epoch 83/100\n",
            "8000/8000 [==============================] - 0s 2us/step - loss: 0.4519 - acc: 0.8019\n",
            "Epoch 84/100\n",
            "8000/8000 [==============================] - 0s 4us/step - loss: 0.4506 - acc: 0.8020\n",
            "Epoch 85/100\n",
            "8000/8000 [==============================] - 0s 4us/step - loss: 0.4494 - acc: 0.8026\n",
            "Epoch 86/100\n",
            "8000/8000 [==============================] - 0s 2us/step - loss: 0.4481 - acc: 0.8035\n",
            "Epoch 87/100\n",
            "8000/8000 [==============================] - 0s 2us/step - loss: 0.4469 - acc: 0.8041\n",
            "Epoch 88/100\n",
            "8000/8000 [==============================] - 0s 2us/step - loss: 0.4457 - acc: 0.8045\n",
            "Epoch 89/100\n",
            "8000/8000 [==============================] - 0s 2us/step - loss: 0.4445 - acc: 0.8045\n",
            "Epoch 90/100\n",
            "8000/8000 [==============================] - 0s 2us/step - loss: 0.4434 - acc: 0.8045\n",
            "Epoch 91/100\n",
            "8000/8000 [==============================] - 0s 2us/step - loss: 0.4423 - acc: 0.8049\n",
            "Epoch 92/100\n",
            "8000/8000 [==============================] - 0s 2us/step - loss: 0.4412 - acc: 0.8050\n",
            "Epoch 93/100\n",
            "8000/8000 [==============================] - 0s 2us/step - loss: 0.4402 - acc: 0.8058\n",
            "Epoch 94/100\n",
            "8000/8000 [==============================] - 0s 2us/step - loss: 0.4392 - acc: 0.8066\n",
            "Epoch 95/100\n",
            "8000/8000 [==============================] - 0s 2us/step - loss: 0.4381 - acc: 0.8075\n",
            "Epoch 96/100\n",
            "8000/8000 [==============================] - 0s 2us/step - loss: 0.4371 - acc: 0.8075\n",
            "Epoch 97/100\n",
            "8000/8000 [==============================] - 0s 2us/step - loss: 0.4362 - acc: 0.8071\n",
            "Epoch 98/100\n",
            "8000/8000 [==============================] - 0s 2us/step - loss: 0.4352 - acc: 0.8079\n",
            "Epoch 99/100\n",
            "8000/8000 [==============================] - 0s 3us/step - loss: 0.4343 - acc: 0.8080\n",
            "Epoch 100/100\n",
            "8000/8000 [==============================] - 0s 2us/step - loss: 0.4334 - acc: 0.8081\n"
          ],
          "name": "stdout"
        },
        {
          "output_type": "execute_result",
          "data": {
            "text/plain": [
              "<keras.callbacks.History at 0x7f8794355e10>"
            ]
          },
          "metadata": {
            "tags": []
          },
          "execution_count": 286
        }
      ]
    },
    {
      "cell_type": "code",
      "metadata": {
        "id": "Znkjq6_GKjO3",
        "colab_type": "code",
        "colab": {
          "base_uri": "https://localhost:8080/",
          "height": 136
        },
        "outputId": "baa16868-2814-4755-8f71-adeae9e75cfe"
      },
      "source": [
        "model.predict(x) # now prediction test data"
      ],
      "execution_count": 287,
      "outputs": [
        {
          "output_type": "execute_result",
          "data": {
            "text/plain": [
              "array([[0.28359416],\n",
              "       [0.07942167],\n",
              "       [0.24103269],\n",
              "       ...,\n",
              "       [0.15685165],\n",
              "       [0.2096405 ],\n",
              "       [0.10452193]], dtype=float32)"
            ]
          },
          "metadata": {
            "tags": []
          },
          "execution_count": 287
        }
      ]
    },
    {
      "cell_type": "code",
      "metadata": {
        "id": "tSDsy2CkLWBi",
        "colab_type": "code",
        "colab": {}
      },
      "source": [
        ""
      ],
      "execution_count": 0,
      "outputs": []
    }
  ]
}