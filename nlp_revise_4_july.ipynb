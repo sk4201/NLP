{
  "nbformat": 4,
  "nbformat_minor": 0,
  "metadata": {
    "colab": {
      "name": "nlp_revise-4-july.ipynb",
      "version": "0.3.2",
      "provenance": [],
      "collapsed_sections": [],
      "include_colab_link": true
    },
    "kernelspec": {
      "name": "python3",
      "display_name": "Python 3"
    }
  },
  "cells": [
    {
      "cell_type": "markdown",
      "metadata": {
        "id": "view-in-github",
        "colab_type": "text"
      },
      "source": [
        "<a href=\"https://colab.research.google.com/github/sk4201/NLP/blob/master/nlp_revise_4_july.ipynb\" target=\"_parent\"><img src=\"https://colab.research.google.com/assets/colab-badge.svg\" alt=\"Open In Colab\"/></a>"
      ]
    },
    {
      "cell_type": "code",
      "metadata": {
        "id": "oa-bKKXKaKwP",
        "colab_type": "code",
        "outputId": "c8ac8393-7d2d-4516-ef20-9ad29f09b0cf",
        "colab": {
          "base_uri": "https://localhost:8080/",
          "height": 51
        }
      },
      "source": [
        "import nltk\n",
        "nltk.download('wordnet')\n",
        "  \n",
        "from   nltk.tokenize   import  sent_tokenize,word_tokenize\n",
        "from  nltk.stem   import  PorterStemmer,WordNetLemmatizer\n",
        "from   nltk.corpus  import  stopwords"
      ],
      "execution_count": 44,
      "outputs": [
        {
          "output_type": "stream",
          "text": [
            "[nltk_data] Downloading package wordnet to /root/nltk_data...\n",
            "[nltk_data]   Unzipping corpora/wordnet.zip.\n"
          ],
          "name": "stdout"
        }
      ]
    },
    {
      "cell_type": "code",
      "metadata": {
        "id": "Ti4fPxqJa0oN",
        "colab_type": "code",
        "colab": {}
      },
      "source": [
        "data= \"hello world i am going out side for playing cricket\"\n"
      ],
      "execution_count": 0,
      "outputs": []
    },
    {
      "cell_type": "code",
      "metadata": {
        "id": "ivamlJJJbnL2",
        "colab_type": "code",
        "colab": {}
      },
      "source": [
        "# word tokenize\n",
        "tdata=word_tokenize(data)"
      ],
      "execution_count": 0,
      "outputs": []
    },
    {
      "cell_type": "code",
      "metadata": {
        "id": "rKYAcE-lbsEn",
        "colab_type": "code",
        "outputId": "4387426e-c905-4923-9364-1ea17e154178",
        "colab": {
          "base_uri": "https://localhost:8080/",
          "height": 187
        }
      },
      "source": [
        "tdata"
      ],
      "execution_count": 47,
      "outputs": [
        {
          "output_type": "execute_result",
          "data": {
            "text/plain": [
              "['hello',\n",
              " 'world',\n",
              " 'i',\n",
              " 'am',\n",
              " 'going',\n",
              " 'out',\n",
              " 'side',\n",
              " 'for',\n",
              " 'playing',\n",
              " 'cricket']"
            ]
          },
          "metadata": {
            "tags": []
          },
          "execution_count": 47
        }
      ]
    },
    {
      "cell_type": "code",
      "metadata": {
        "id": "CZ-C-5HqbxmN",
        "colab_type": "code",
        "colab": {}
      },
      "source": [
        "#  remove  stopwords\n",
        "removedata=[i for i  in  tdata if  i.lower() not in  stopwords.words('english')]"
      ],
      "execution_count": 0,
      "outputs": []
    },
    {
      "cell_type": "code",
      "metadata": {
        "id": "bMVuCxiicWsc",
        "colab_type": "code",
        "colab": {
          "base_uri": "https://localhost:8080/",
          "height": 34
        },
        "outputId": "b3748a6c-43ac-4291-b4d7-e33c398746e0"
      },
      "source": [
        "removedata"
      ],
      "execution_count": 49,
      "outputs": [
        {
          "output_type": "execute_result",
          "data": {
            "text/plain": [
              "['hello', 'world', 'going', 'side', 'playing', 'cricket']"
            ]
          },
          "metadata": {
            "tags": []
          },
          "execution_count": 49
        }
      ]
    },
    {
      "cell_type": "code",
      "metadata": {
        "id": "rkdtsUBCcY8i",
        "colab_type": "code",
        "colab": {
          "base_uri": "https://localhost:8080/",
          "height": 119
        },
        "outputId": "85905ecc-3c2d-43d5-bf07-3188e60001be"
      },
      "source": [
        "\n",
        "#  stemming  \n",
        "pt=PorterStemmer()\n",
        "for  i  in  removedata:\n",
        "    print(i , \" stemmed into ..>\",pt.stem(i))"
      ],
      "execution_count": 50,
      "outputs": [
        {
          "output_type": "stream",
          "text": [
            "hello  stemmed into ..> hello\n",
            "world  stemmed into ..> world\n",
            "going  stemmed into ..> go\n",
            "side  stemmed into ..> side\n",
            "playing  stemmed into ..> play\n",
            "cricket  stemmed into ..> cricket\n"
          ],
          "name": "stdout"
        }
      ]
    },
    {
      "cell_type": "code",
      "metadata": {
        "id": "7Gen8KkT0CRY",
        "colab_type": "code",
        "colab": {
          "base_uri": "https://localhost:8080/",
          "height": 119
        },
        "outputId": "0fe62edc-4779-40a4-bcc5-642056d3f222"
      },
      "source": [
        "#  lemma\n",
        "wl=WordNetLemmatizer()\n",
        "for  i  in  removedata:\n",
        "    print(wl.lemmatize(i))"
      ],
      "execution_count": 51,
      "outputs": [
        {
          "output_type": "stream",
          "text": [
            "hello\n",
            "world\n",
            "going\n",
            "side\n",
            "playing\n",
            "cricket\n"
          ],
          "name": "stdout"
        }
      ]
    },
    {
      "cell_type": "code",
      "metadata": {
        "id": "JNemH4LNcwRW",
        "colab_type": "code",
        "colab": {
          "base_uri": "https://localhost:8080/",
          "height": 34
        },
        "outputId": "4add8bad-0ff7-4973-a201-537e46496673"
      },
      "source": [
        "#  data \n",
        "x=\"loving\"\n",
        "#  stemming \n",
        "pt=PorterStemmer()\n",
        "pt.stem(x)"
      ],
      "execution_count": 52,
      "outputs": [
        {
          "output_type": "execute_result",
          "data": {
            "text/plain": [
              "'love'"
            ]
          },
          "metadata": {
            "tags": []
          },
          "execution_count": 52
        }
      ]
    },
    {
      "cell_type": "code",
      "metadata": {
        "id": "muXQ6hYWc1fo",
        "colab_type": "code",
        "colab": {
          "base_uri": "https://localhost:8080/",
          "height": 34
        },
        "outputId": "95b46b63-2223-4b1f-ade2-ce38b462d7f6"
      },
      "source": [
        "\n",
        "#  lemma\n",
        "wl=WordNetLemmatizer()\n",
        "wl.lemmatize(x)#lemma\n"
      ],
      "execution_count": 53,
      "outputs": [
        {
          "output_type": "execute_result",
          "data": {
            "text/plain": [
              "'loving'"
            ]
          },
          "metadata": {
            "tags": []
          },
          "execution_count": 53
        }
      ]
    },
    {
      "cell_type": "code",
      "metadata": {
        "id": "jPZF65AL2kpN",
        "colab_type": "code",
        "colab": {}
      },
      "source": [
        ""
      ],
      "execution_count": 0,
      "outputs": []
    }
  ]
}